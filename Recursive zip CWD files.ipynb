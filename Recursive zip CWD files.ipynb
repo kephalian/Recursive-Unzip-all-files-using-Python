{
 "cells": [
  {
   "cell_type": "markdown",
   "metadata": {},
   "source": [
    "---\n",
    "# Zips all files in the Current working directory\n",
    "Dependency PySimpleGUI for GUI, glob for getting names recursively"
   ]
  },
  {
   "cell_type": "markdown",
   "metadata": {},
   "source": [
    "from zipfile import ZipFile\n",
    "import PySimpleGUI as sg\n",
    "import os, glob, sys"
   ]
  },
  {
   "cell_type": "code",
   "execution_count": 1,
   "metadata": {},
   "outputs": [],
   "source": [
    "from zipfile import ZipFile\n",
    "import PySimpleGUI as sg\n",
    "import os, glob, sys"
   ]
  },
  {
   "cell_type": "markdown",
   "metadata": {},
   "source": [
    "Set nice theme and ZIP as default archieve"
   ]
  },
  {
   "cell_type": "code",
   "execution_count": 2,
   "metadata": {},
   "outputs": [],
   "source": [
    "sg.theme(\"material1\")\n",
    "archive_format = \"zip\""
   ]
  },
  {
   "cell_type": "markdown",
   "metadata": {},
   "source": [
    "Get list of files in the CWD and all subdirectories using GLOB"
   ]
  },
  {
   "cell_type": "code",
   "execution_count": 3,
   "metadata": {},
   "outputs": [
    {
     "data": {
      "text/plain": [
       "'OK'"
      ]
     },
     "execution_count": 3,
     "metadata": {},
     "output_type": "execute_result"
    }
   ],
   "source": [
    "files_ = []\n",
    "for file in glob.glob(\"**/*\",recursive=True):\n",
    "    if os.path.isfile(file):files_.append(file)\n",
    "  \n",
    "if files_ is None: sys.exit()   \n",
    "sg.popup_scrolled(files_, title='List of files' , size=(125,25))"
   ]
  },
  {
   "cell_type": "markdown",
   "metadata": {},
   "source": [
    "Obtain the name of ZIP file from the user"
   ]
  },
  {
   "cell_type": "code",
   "execution_count": 4,
   "metadata": {},
   "outputs": [],
   "source": [
    "file=sg.popup_get_text('Enter name of Archieve to create', default_text='backup.zip')"
   ]
  },
  {
   "cell_type": "markdown",
   "metadata": {},
   "source": [
    "Add the files into a zip file confirming each file before adding"
   ]
  },
  {
   "cell_type": "code",
   "execution_count": 5,
   "metadata": {},
   "outputs": [],
   "source": [
    "if file is None: sys.exit()\n",
    "file=os.path.basename(file)+'.zip'\n",
    "with ZipFile(file, 'w') as zip2:\n",
    "    for i in files_:\n",
    "        if sg.popup_yes_no(f\"Add this item {i}\", title='Add this to zip file')=='No':continue\n",
    "        zip2.write(i)\n",
    "zip2=ZipFile(file)      \n"
   ]
  },
  {
   "cell_type": "markdown",
   "metadata": {},
   "source": [
    "TEST the created ZIP file for errors"
   ]
  },
  {
   "cell_type": "code",
   "execution_count": null,
   "metadata": {},
   "outputs": [],
   "source": [
    "check1=zip2.testzip()\n",
    "if check1 is None:\n",
    "    sg.popup(f'Tested contents of {file} No errors', title='Success')\n",
    "else:\n",
    "    sg.popup(f'Tested contents of {file} Error found in {check1}', title='Bad zip')"
   ]
  },
  {
   "cell_type": "markdown",
   "metadata": {},
   "source": [
    "---"
   ]
  }
 ],
 "metadata": {
  "kernelspec": {
   "display_name": "Python 3.10.4 64-bit",
   "language": "python",
   "name": "python3"
  },
  "language_info": {
   "codemirror_mode": {
    "name": "ipython",
    "version": 3
   },
   "file_extension": ".py",
   "mimetype": "text/x-python",
   "name": "python",
   "nbconvert_exporter": "python",
   "pygments_lexer": "ipython3",
   "version": "3.10.4"
  },
  "orig_nbformat": 4,
  "vscode": {
   "interpreter": {
    "hash": "369f2c481f4da34e4445cda3fffd2e751bd1c4d706f27375911949ba6bb62e1c"
   }
  }
 },
 "nbformat": 4,
 "nbformat_minor": 2
}
